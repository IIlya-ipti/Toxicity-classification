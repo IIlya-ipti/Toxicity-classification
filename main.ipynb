{
 "cells": [
  {
   "cell_type": "code",
   "execution_count": 27,
   "metadata": {},
   "outputs": [
    {
     "data": {
      "text/plain": [
       "<module 'src.TokenWrapper' from 'c:\\\\Users\\\\Ilya\\\\visual_studio_projects\\\\src\\\\TokenWrapper.py'>"
      ]
     },
     "execution_count": 27,
     "metadata": {},
     "output_type": "execute_result"
    }
   ],
   "source": [
    "from src.DataManager import DataManager\n",
    "import src.Neuro as nr\n",
    "import src.TokenWrapper as tw\n",
    "import numpy as np\n",
    "from importlib import reload\n",
    "reload(nr)\n",
    "reload(tw)"
   ]
  },
  {
   "cell_type": "code",
   "execution_count": 30,
   "metadata": {},
   "outputs": [],
   "source": [
    "# init data manaher \n",
    "dm = DataManager(reduction=2000)\n",
    "\n",
    "# init token\n",
    "token = tw.TokenSimple(dm.get_xtrain(),dm.get_xvalid(),dm.get_max_len_sequence(),False)\n",
    "\n",
    "tr = nr.TransformerNeuro(token)\n",
    "lstm = nr.LSTMNeuro(token)"
   ]
  },
  {
   "cell_type": "code",
   "execution_count": 50,
   "metadata": {},
   "outputs": [
    {
     "name": "stdout",
     "output_type": "stream",
     "text": [
      "Epoch 1/2\n",
      "160/160 [==============================] - 48s 291ms/step - loss: 0.3715 - accuracy: 0.8931 - val_loss: 0.3357 - val_accuracy: 0.9002\n",
      "Epoch 2/2\n",
      "160/160 [==============================] - 46s 288ms/step - loss: 0.3376 - accuracy: 0.9006 - val_loss: 0.3241 - val_accuracy: 0.9002\n"
     ]
    }
   ],
   "source": [
    "#lstm.train(dm.get_xtrain(),dm.get_ytrain(), dm.get_xvalid(), dm.get_yvalid())\n",
    "tr.train(dm.get_xtrain(),dm.get_ytrain(), dm.get_xvalid(), dm.get_yvalid())"
   ]
  },
  {
   "cell_type": "code",
   "execution_count": 51,
   "metadata": {},
   "outputs": [],
   "source": [
    "# save models\n",
    "tr.save_model(\"models/transformer.h5\")\n",
    "lstm.save_model(\"models/lstm.h5\")"
   ]
  },
  {
   "cell_type": "code",
   "execution_count": 60,
   "metadata": {},
   "outputs": [
    {
     "name": "stdout",
     "output_type": "stream",
     "text": [
      "1/1 [==============================] - 0s 49ms/step\n"
     ]
    },
    {
     "data": {
      "text/plain": [
       "array([[0.9114787 , 0.08852138]], dtype=float32)"
      ]
     },
     "execution_count": 60,
     "metadata": {},
     "output_type": "execute_result"
    }
   ],
   "source": [
    "tr.predict([\"fuck yourself fuck yourself fuck yourself fuck yourself fuck yourself\"])"
   ]
  },
  {
   "cell_type": "code",
   "execution_count": null,
   "metadata": {},
   "outputs": [],
   "source": []
  }
 ],
 "metadata": {
  "kernelspec": {
   "display_name": "Python 3",
   "language": "python",
   "name": "python3"
  },
  "language_info": {
   "codemirror_mode": {
    "name": "ipython",
    "version": 3
   },
   "file_extension": ".py",
   "mimetype": "text/x-python",
   "name": "python",
   "nbconvert_exporter": "python",
   "pygments_lexer": "ipython3",
   "version": "3.10.11"
  },
  "orig_nbformat": 4
 },
 "nbformat": 4,
 "nbformat_minor": 2
}
